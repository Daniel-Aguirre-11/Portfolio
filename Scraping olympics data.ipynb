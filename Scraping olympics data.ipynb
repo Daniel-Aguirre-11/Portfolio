{
 "cells": [
  {
   "cell_type": "code",
   "execution_count": 4,
   "id": "cbc0f4db",
   "metadata": {},
   "outputs": [],
   "source": [
    "from bs4 import BeautifulSoup as bs\n",
    "import re\n",
    "import pandas as pd\n",
    "import requests\n",
    "from selenium import webdriver\n",
    "from selenium.webdriver.chrome.options import Options\n",
    "import time\n",
    "import random"
   ]
  },
  {
   "cell_type": "code",
   "execution_count": 2,
   "id": "3d3450e3",
   "metadata": {},
   "outputs": [],
   "source": [
    "url = \"https://olympics.com/tokyo-2020/olympic-games/en/results/all-sports/athletes.htm\""
   ]
  },
  {
   "cell_type": "code",
   "execution_count": 3,
   "id": "f099542d",
   "metadata": {},
   "outputs": [],
   "source": [
    "base_url = \"https://olympics.com/tokyo-2020/olympic-games/\""
   ]
  },
  {
   "cell_type": "markdown",
   "id": "7ca624b4",
   "metadata": {},
   "source": [
    "# Using selenium to open chrome browser"
   ]
  },
  {
   "cell_type": "code",
   "execution_count": 37,
   "id": "7e0c2531",
   "metadata": {},
   "outputs": [],
   "source": [
    "driver_path = \"chromedriver//chromedriver\""
   ]
  },
  {
   "cell_type": "code",
   "execution_count": 3,
   "id": "86d45cd0",
   "metadata": {},
   "outputs": [],
   "source": [
    "wd = webdriver.Chrome(executable_path=driver_path)"
   ]
  },
  {
   "cell_type": "code",
   "execution_count": 6,
   "id": "199d53c2",
   "metadata": {},
   "outputs": [],
   "source": [
    "wd.get(url)"
   ]
  },
  {
   "cell_type": "code",
   "execution_count": 7,
   "id": "d45451c9",
   "metadata": {},
   "outputs": [],
   "source": [
    "html = wd.page_source"
   ]
  },
  {
   "cell_type": "code",
   "execution_count": 8,
   "id": "3c4b5c9d",
   "metadata": {},
   "outputs": [],
   "source": [
    "soup = bs(html)"
   ]
  },
  {
   "cell_type": "markdown",
   "id": "8e820bf3",
   "metadata": {},
   "source": [
    "# Setting up proxy with selenium"
   ]
  },
  {
   "cell_type": "code",
   "execution_count": 38,
   "id": "fa28d4fe",
   "metadata": {},
   "outputs": [],
   "source": [
    "from selenium import webdriver\n",
    "PROXY = \"207.244.227.169:443\"\n",
    "chrome_options = webdriver.ChromeOptions()\n",
    "chrome_options.add_argument('--proxy-server=%s' % PROXY)\n",
    "chrome = webdriver.Chrome(options=chrome_options,executable_path=driver_path)\n",
    "chrome.get(\"https://www.olympics.com\")"
   ]
  },
  {
   "cell_type": "code",
   "execution_count": null,
   "id": "536d09ba",
   "metadata": {},
   "outputs": [],
   "source": []
  },
  {
   "cell_type": "code",
   "execution_count": null,
   "id": "ee7b927c",
   "metadata": {},
   "outputs": [],
   "source": []
  },
  {
   "cell_type": "markdown",
   "id": "8105d5d9",
   "metadata": {},
   "source": [
    "# Looping through pages to grab athlete links"
   ]
  },
  {
   "cell_type": "code",
   "execution_count": 12,
   "id": "871e4dbf",
   "metadata": {},
   "outputs": [],
   "source": [
    "links = []\n",
    "for i in range(584):\n",
    "    links.extend(soup.select(\"div.playerTag a\"))\n",
    "    wd.find_element_by_id('entries-table_next').click()\n",
    "    time.sleep(random.uniform(5, 10))\n",
    "    html = wd.page_source\n",
    "    soup = bs(html)"
   ]
  },
  {
   "cell_type": "code",
   "execution_count": null,
   "id": "989dba6a",
   "metadata": {},
   "outputs": [],
   "source": [
    "link_list = []"
   ]
  },
  {
   "cell_type": "code",
   "execution_count": null,
   "id": "50b36055",
   "metadata": {},
   "outputs": [],
   "source": [
    "for link in links:\n",
    "    link = link[\"href\"]\n",
    "    link_list.append(link[9:])"
   ]
  },
  {
   "cell_type": "code",
   "execution_count": null,
   "id": "8558843e",
   "metadata": {},
   "outputs": [],
   "source": [
    "link_list"
   ]
  },
  {
   "cell_type": "code",
   "execution_count": null,
   "id": "879f9a57",
   "metadata": {},
   "outputs": [],
   "source": []
  },
  {
   "cell_type": "code",
   "execution_count": null,
   "id": "27d1208a",
   "metadata": {},
   "outputs": [],
   "source": []
  },
  {
   "cell_type": "markdown",
   "id": "f135286b",
   "metadata": {},
   "source": [
    "# Save/load json links"
   ]
  },
  {
   "cell_type": "code",
   "execution_count": 16,
   "id": "7ce8fdb4",
   "metadata": {},
   "outputs": [],
   "source": [
    "import json\n",
    "def save_data(title,data):\n",
    "    with open(title,'w', encoding='utf-8') as f:\n",
    "        json.dump(data, f, ensure_ascii=False, indent=2)"
   ]
  },
  {
   "cell_type": "code",
   "execution_count": 23,
   "id": "abe603bc",
   "metadata": {},
   "outputs": [],
   "source": [
    "save_data('data//athlete_link_list.json', link_list)"
   ]
  },
  {
   "cell_type": "code",
   "execution_count": 31,
   "id": "ea28a927",
   "metadata": {},
   "outputs": [],
   "source": [
    "import json\n",
    "def load_data(title):\n",
    "    with open(title, encoding='utf-8') as f:\n",
    "        return json.load(f)"
   ]
  },
  {
   "cell_type": "code",
   "execution_count": 32,
   "id": "85be113f",
   "metadata": {},
   "outputs": [],
   "source": [
    "loaded_links = load_data('data//athlete_link_list.json')"
   ]
  },
  {
   "cell_type": "code",
   "execution_count": 41,
   "id": "d5e00305",
   "metadata": {},
   "outputs": [
    {
     "data": {
      "text/plain": [
       "'en/results/equestrian/athlete-profile-n1482494-hanna-mary.htm'"
      ]
     },
     "execution_count": 41,
     "metadata": {},
     "output_type": "execute_result"
    }
   ],
   "source": [
    "loaded_links[3880]"
   ]
  },
  {
   "cell_type": "code",
   "execution_count": null,
   "id": "b7c2efad",
   "metadata": {},
   "outputs": [],
   "source": []
  },
  {
   "cell_type": "code",
   "execution_count": null,
   "id": "c70a362e",
   "metadata": {},
   "outputs": [],
   "source": []
  },
  {
   "cell_type": "markdown",
   "id": "604e71e9",
   "metadata": {},
   "source": [
    "# Looping through pages and saving html pages"
   ]
  },
  {
   "cell_type": "code",
   "execution_count": null,
   "id": "188ff7a0",
   "metadata": {},
   "outputs": [],
   "source": []
  },
  {
   "cell_type": "code",
   "execution_count": null,
   "id": "5ede4038",
   "metadata": {},
   "outputs": [],
   "source": []
  },
  {
   "cell_type": "code",
   "execution_count": null,
   "id": "034635f0",
   "metadata": {},
   "outputs": [],
   "source": [
    "for i in range(len(loaded_links)):\n",
    "    with open(f\"html_scripts//{i}.html\", \"w\", encoding=\"utf-8\") as file:\n",
    "        wd.get(base_url + loaded_links[i])\n",
    "        if i % 20 == 0 and i != 0:\n",
    "            time.sleep(3)\n",
    "        html = bs(wd.page_source)\n",
    "        test_soup = html.select('main.wrs-content')\n",
    "        file.write(str(test_soup))"
   ]
  },
  {
   "cell_type": "code",
   "execution_count": null,
   "id": "2dabfa38",
   "metadata": {},
   "outputs": [],
   "source": []
  },
  {
   "cell_type": "code",
   "execution_count": null,
   "id": "e548d33e",
   "metadata": {},
   "outputs": [],
   "source": []
  },
  {
   "cell_type": "markdown",
   "id": "885aa581",
   "metadata": {},
   "source": [
    "# Looping through files in directory then calling scraping function"
   ]
  },
  {
   "cell_type": "code",
   "execution_count": 99,
   "id": "ec389f80",
   "metadata": {
    "scrolled": true
   },
   "outputs": [],
   "source": [
    "import os\n",
    "def load_pages():\n",
    "    i = 1\n",
    "    directory ='C://Users//danag//Desktop//Coding Stuff//learnpandas//html_scripts'\n",
    "    for filename in os.listdir(directory):\n",
    "        if filename.endswith('.html'):\n",
    "            fname = os.path.join(directory,filename)\n",
    "            with open(fname, 'r', encoding=\"utf-8\") as f:\n",
    "                soup = bs(f)\n",
    "                try:\n",
    "                    scrape_html(i, soup)\n",
    "                    i = i + 1\n",
    "                    print(i)\n",
    "                except Exception as e:\n",
    "                    print(e)"
   ]
  },
  {
   "cell_type": "markdown",
   "id": "a8647bfc",
   "metadata": {},
   "source": [
    "# Scraping data from html"
   ]
  },
  {
   "cell_type": "code",
   "execution_count": 98,
   "id": "aac33050",
   "metadata": {},
   "outputs": [],
   "source": [
    "df = pd.DataFrame(columns=[\"Name\", \"Sex\", \"Age\", \"Team\", \"NOC\", \"Year\", \"Season\", \"City\", \"Sport\", \"Event\", \"Medal\"])\n",
    "def scrape_html(i, soup):\n",
    "    #Columns for athlete dataframe\n",
    "    columns=[\"Name\", \"Sex\", \"Age\", \"Team\", \"NOC\", \"Year\", \"Season\", \"City\", \"Sport\", \"Event\", \"Medal\"]\n",
    "    #Creating the row of data for temporary df\n",
    "    athlete_info = []\n",
    "    #Collecting data from html page\n",
    "    name = soup.find(\"div\", class_=\"col-lg-9\").h1.string.strip()\n",
    "    noc = soup.select(\"div.col-9 div.playerTag\")[0]['country']\n",
    "    team = soup.select(\"div.col-9 div.playerTag a\")[0].text\n",
    "    age = soup.select(\"div.col-9 div.col-md-6\")[0].text.strip('\\n').split(\"\\n\\n\")[1].split('\\n')[1]\n",
    "    sex = soup.select(\"div.col-9 div.col-md-6\")[0].text.strip('\\n').split(\"\\n\\n\")[2].split('\\n')[1]\n",
    "    year = '2020'\n",
    "    season = 'Summer'\n",
    "    city = 'Tokyo'\n",
    "    sport = soup.select(\"table.table-schedule td\")[0].text.strip()\n",
    "    events_table = soup.find(\"table\", class_='table-schedule').find(\"tbody\").find_all('tr')\n",
    "    #Storing list of all events and medals won\n",
    "    event_list = []\n",
    "    medal_list = []\n",
    "    #looping through events in events table\n",
    "    for event in events_table:\n",
    "        event_list.append(event.find_all('td')[1].find('a').text)\n",
    "    medals_table = soup.find(\"table\", class_='table-schedule').find(\"tbody\").find_all('tr')\n",
    "    #looping throud medals in medals table\n",
    "    for medal in medals_table:\n",
    "        if len(medal.find_all('td')[-1].find_all()) == 0:\n",
    "            medal_list.append('N/A')\n",
    "        else:\n",
    "            medal = medal.find_all('td')[-1].find('img')['title'].split(' ')[0]\n",
    "            medal_list.append(medal)\n",
    "    #Appending all data of athlete to table above\n",
    "    athlete_info.append([name, sex, age, team, noc, year, season, city, sport, event_list, medal_list])\n",
    "    #Creating dataframe of with athlete data to columns above\n",
    "    athlete_df = pd.DataFrame(athlete_info, columns = columns)\n",
    "    global df\n",
    "    #Appending athlete dataframe to ain dataframe\n",
    "    df = df.append(athlete_df)"
   ]
  },
  {
   "cell_type": "code",
   "execution_count": null,
   "id": "d7bcda87",
   "metadata": {},
   "outputs": [],
   "source": [
    "df"
   ]
  },
  {
   "cell_type": "markdown",
   "id": "16226ae9",
   "metadata": {},
   "source": [
    "# Saving original data frame"
   ]
  },
  {
   "cell_type": "code",
   "execution_count": 105,
   "id": "9a677edf",
   "metadata": {},
   "outputs": [],
   "source": [
    "df.to_csv('archive//unexploded_olympics.csv', index=False)"
   ]
  },
  {
   "cell_type": "markdown",
   "id": "0373465e",
   "metadata": {},
   "source": [
    "# Saving exploded data frame"
   ]
  },
  {
   "cell_type": "code",
   "execution_count": 102,
   "id": "7780be74",
   "metadata": {},
   "outputs": [],
   "source": [
    "# exploding lists in columns of \"Event\" and \"Medal\" \n",
    "final_df = df.explode(['Event', 'Medal'])"
   ]
  },
  {
   "cell_type": "code",
   "execution_count": 103,
   "id": "ff5655a3",
   "metadata": {},
   "outputs": [
    {
     "data": {
      "text/html": [
       "<div>\n",
       "<style scoped>\n",
       "    .dataframe tbody tr th:only-of-type {\n",
       "        vertical-align: middle;\n",
       "    }\n",
       "\n",
       "    .dataframe tbody tr th {\n",
       "        vertical-align: top;\n",
       "    }\n",
       "\n",
       "    .dataframe thead th {\n",
       "        text-align: right;\n",
       "    }\n",
       "</style>\n",
       "<table border=\"1\" class=\"dataframe\">\n",
       "  <thead>\n",
       "    <tr style=\"text-align: right;\">\n",
       "      <th></th>\n",
       "      <th>Name</th>\n",
       "      <th>Sex</th>\n",
       "      <th>Age</th>\n",
       "      <th>Team</th>\n",
       "      <th>NOC</th>\n",
       "      <th>Year</th>\n",
       "      <th>Season</th>\n",
       "      <th>City</th>\n",
       "      <th>Sport</th>\n",
       "      <th>Event</th>\n",
       "      <th>Medal</th>\n",
       "    </tr>\n",
       "  </thead>\n",
       "  <tbody>\n",
       "    <tr>\n",
       "      <th>0</th>\n",
       "      <td>RAHAYU Apriyani</td>\n",
       "      <td>Female</td>\n",
       "      <td>23</td>\n",
       "      <td>Indonesia</td>\n",
       "      <td>INA</td>\n",
       "      <td>2020</td>\n",
       "      <td>Summer</td>\n",
       "      <td>Tokyo</td>\n",
       "      <td>Badminton</td>\n",
       "      <td>Women's Doubles</td>\n",
       "      <td>Gold</td>\n",
       "    </tr>\n",
       "    <tr>\n",
       "      <th>0</th>\n",
       "      <td>AALERUD Katrine</td>\n",
       "      <td>Female</td>\n",
       "      <td>26</td>\n",
       "      <td>Norway</td>\n",
       "      <td>NOR</td>\n",
       "      <td>2020</td>\n",
       "      <td>Summer</td>\n",
       "      <td>Tokyo</td>\n",
       "      <td>Cycling Road</td>\n",
       "      <td>Women's Road Race</td>\n",
       "      <td>N/A</td>\n",
       "    </tr>\n",
       "    <tr>\n",
       "      <th>0</th>\n",
       "      <td>AALERUD Katrine</td>\n",
       "      <td>Female</td>\n",
       "      <td>26</td>\n",
       "      <td>Norway</td>\n",
       "      <td>NOR</td>\n",
       "      <td>2020</td>\n",
       "      <td>Summer</td>\n",
       "      <td>Tokyo</td>\n",
       "      <td>Cycling Road</td>\n",
       "      <td>Women's Individual Time Trial</td>\n",
       "      <td>N/A</td>\n",
       "    </tr>\n",
       "    <tr>\n",
       "      <th>0</th>\n",
       "      <td>ABBASALI Hamideh</td>\n",
       "      <td>Female</td>\n",
       "      <td>31</td>\n",
       "      <td>Islamic Republic of Iran</td>\n",
       "      <td>IRI</td>\n",
       "      <td>2020</td>\n",
       "      <td>Summer</td>\n",
       "      <td>Tokyo</td>\n",
       "      <td>Karate</td>\n",
       "      <td>Women's Kumite +61kg</td>\n",
       "      <td>N/A</td>\n",
       "    </tr>\n",
       "    <tr>\n",
       "      <th>0</th>\n",
       "      <td>AFONSO Salome</td>\n",
       "      <td>Female</td>\n",
       "      <td>23</td>\n",
       "      <td>Portugal</td>\n",
       "      <td>POR</td>\n",
       "      <td>2020</td>\n",
       "      <td>Summer</td>\n",
       "      <td>Tokyo</td>\n",
       "      <td>Athletics</td>\n",
       "      <td>Women's 1500m</td>\n",
       "      <td>N/A</td>\n",
       "    </tr>\n",
       "    <tr>\n",
       "      <th>...</th>\n",
       "      <td>...</td>\n",
       "      <td>...</td>\n",
       "      <td>...</td>\n",
       "      <td>...</td>\n",
       "      <td>...</td>\n",
       "      <td>...</td>\n",
       "      <td>...</td>\n",
       "      <td>...</td>\n",
       "      <td>...</td>\n",
       "      <td>...</td>\n",
       "      <td>...</td>\n",
       "    </tr>\n",
       "    <tr>\n",
       "      <th>0</th>\n",
       "      <td>TAN Qian Xiu Adele</td>\n",
       "      <td>Female</td>\n",
       "      <td>22</td>\n",
       "      <td>Singapore</td>\n",
       "      <td>SGP</td>\n",
       "      <td>2020</td>\n",
       "      <td>Summer</td>\n",
       "      <td>Tokyo</td>\n",
       "      <td>Shooting</td>\n",
       "      <td>10m Air Rifle Women</td>\n",
       "      <td>N/A</td>\n",
       "    </tr>\n",
       "    <tr>\n",
       "      <th>0</th>\n",
       "      <td>TAN Sze En</td>\n",
       "      <td>Female</td>\n",
       "      <td>20</td>\n",
       "      <td>Singapore</td>\n",
       "      <td>SGP</td>\n",
       "      <td>2020</td>\n",
       "      <td>Summer</td>\n",
       "      <td>Tokyo</td>\n",
       "      <td>Artistic Gymnastics</td>\n",
       "      <td>Women's Balance Beam</td>\n",
       "      <td>N/A</td>\n",
       "    </tr>\n",
       "    <tr>\n",
       "      <th>0</th>\n",
       "      <td>TAN Sze En</td>\n",
       "      <td>Female</td>\n",
       "      <td>20</td>\n",
       "      <td>Singapore</td>\n",
       "      <td>SGP</td>\n",
       "      <td>2020</td>\n",
       "      <td>Summer</td>\n",
       "      <td>Tokyo</td>\n",
       "      <td>Artistic Gymnastics</td>\n",
       "      <td>Women's Floor Exercise</td>\n",
       "      <td>N/A</td>\n",
       "    </tr>\n",
       "    <tr>\n",
       "      <th>0</th>\n",
       "      <td>TAN Ya-Ting</td>\n",
       "      <td>Female</td>\n",
       "      <td>27</td>\n",
       "      <td>Chinese Taipei</td>\n",
       "      <td>TPE</td>\n",
       "      <td>2020</td>\n",
       "      <td>Summer</td>\n",
       "      <td>Tokyo</td>\n",
       "      <td>Archery</td>\n",
       "      <td>Women's Individual</td>\n",
       "      <td>N/A</td>\n",
       "    </tr>\n",
       "    <tr>\n",
       "      <th>0</th>\n",
       "      <td>TAN Ya-Ting</td>\n",
       "      <td>Female</td>\n",
       "      <td>27</td>\n",
       "      <td>Chinese Taipei</td>\n",
       "      <td>TPE</td>\n",
       "      <td>2020</td>\n",
       "      <td>Summer</td>\n",
       "      <td>Tokyo</td>\n",
       "      <td>Archery</td>\n",
       "      <td>Women's Team</td>\n",
       "      <td>N/A</td>\n",
       "    </tr>\n",
       "  </tbody>\n",
       "</table>\n",
       "<p>15055 rows × 11 columns</p>\n",
       "</div>"
      ],
      "text/plain": [
       "                  Name     Sex Age                      Team  NOC  Year  \\\n",
       "0      RAHAYU Apriyani  Female  23                 Indonesia  INA  2020   \n",
       "0      AALERUD Katrine  Female  26                    Norway  NOR  2020   \n",
       "0      AALERUD Katrine  Female  26                    Norway  NOR  2020   \n",
       "0     ABBASALI Hamideh  Female  31  Islamic Republic of Iran  IRI  2020   \n",
       "0        AFONSO Salome  Female  23                  Portugal  POR  2020   \n",
       "..                 ...     ...  ..                       ...  ...   ...   \n",
       "0   TAN Qian Xiu Adele  Female  22                 Singapore  SGP  2020   \n",
       "0           TAN Sze En  Female  20                 Singapore  SGP  2020   \n",
       "0           TAN Sze En  Female  20                 Singapore  SGP  2020   \n",
       "0          TAN Ya-Ting  Female  27            Chinese Taipei  TPE  2020   \n",
       "0          TAN Ya-Ting  Female  27            Chinese Taipei  TPE  2020   \n",
       "\n",
       "    Season   City                Sport                          Event Medal  \n",
       "0   Summer  Tokyo            Badminton                Women's Doubles  Gold  \n",
       "0   Summer  Tokyo         Cycling Road              Women's Road Race   N/A  \n",
       "0   Summer  Tokyo         Cycling Road  Women's Individual Time Trial   N/A  \n",
       "0   Summer  Tokyo               Karate           Women's Kumite +61kg   N/A  \n",
       "0   Summer  Tokyo            Athletics                  Women's 1500m   N/A  \n",
       "..     ...    ...                  ...                            ...   ...  \n",
       "0   Summer  Tokyo             Shooting            10m Air Rifle Women   N/A  \n",
       "0   Summer  Tokyo  Artistic Gymnastics           Women's Balance Beam   N/A  \n",
       "0   Summer  Tokyo  Artistic Gymnastics         Women's Floor Exercise   N/A  \n",
       "0   Summer  Tokyo              Archery             Women's Individual   N/A  \n",
       "0   Summer  Tokyo              Archery                   Women's Team   N/A  \n",
       "\n",
       "[15055 rows x 11 columns]"
      ]
     },
     "execution_count": 103,
     "metadata": {},
     "output_type": "execute_result"
    }
   ],
   "source": [
    "final_df.to_csv('archive//exploded_olympics.csv', index=False)"
   ]
  },
  {
   "cell_type": "markdown",
   "id": "a74593d1",
   "metadata": {},
   "source": [
    "# Testing Exploding a dataframe"
   ]
  },
  {
   "cell_type": "code",
   "execution_count": 96,
   "id": "9cd32305",
   "metadata": {},
   "outputs": [],
   "source": [
    "info_list = [['Daniel', 'Aguirre', \"28\", ['running', 'guitar', 'video games'],['1', '2', '3']]]"
   ]
  },
  {
   "cell_type": "code",
   "execution_count": 97,
   "id": "ca4db121",
   "metadata": {},
   "outputs": [],
   "source": [
    "temp_df = pd.DataFrame(info_list, columns=['First Name', 'Last Name', 'Age', 'Hobbies', 'numbers'])"
   ]
  },
  {
   "cell_type": "code",
   "execution_count": 98,
   "id": "e0122178",
   "metadata": {},
   "outputs": [],
   "source": [
    "my_df = pd.DataFrame(columns=['First Name', 'Last Name', 'Age', 'Hobbies', 'numbers'])"
   ]
  },
  {
   "cell_type": "code",
   "execution_count": 99,
   "id": "356fe9c3",
   "metadata": {},
   "outputs": [
    {
     "data": {
      "text/html": [
       "<div>\n",
       "<style scoped>\n",
       "    .dataframe tbody tr th:only-of-type {\n",
       "        vertical-align: middle;\n",
       "    }\n",
       "\n",
       "    .dataframe tbody tr th {\n",
       "        vertical-align: top;\n",
       "    }\n",
       "\n",
       "    .dataframe thead th {\n",
       "        text-align: right;\n",
       "    }\n",
       "</style>\n",
       "<table border=\"1\" class=\"dataframe\">\n",
       "  <thead>\n",
       "    <tr style=\"text-align: right;\">\n",
       "      <th></th>\n",
       "      <th>First Name</th>\n",
       "      <th>Last Name</th>\n",
       "      <th>Age</th>\n",
       "      <th>Hobbies</th>\n",
       "      <th>numbers</th>\n",
       "    </tr>\n",
       "  </thead>\n",
       "  <tbody>\n",
       "    <tr>\n",
       "      <th>0</th>\n",
       "      <td>Daniel</td>\n",
       "      <td>Aguirre</td>\n",
       "      <td>28</td>\n",
       "      <td>[running, guitar, video games]</td>\n",
       "      <td>[1, 2, 3]</td>\n",
       "    </tr>\n",
       "  </tbody>\n",
       "</table>\n",
       "</div>"
      ],
      "text/plain": [
       "  First Name Last Name Age                         Hobbies    numbers\n",
       "0     Daniel   Aguirre  28  [running, guitar, video games]  [1, 2, 3]"
      ]
     },
     "execution_count": 99,
     "metadata": {},
     "output_type": "execute_result"
    }
   ],
   "source": [
    "temp_df"
   ]
  },
  {
   "cell_type": "code",
   "execution_count": 100,
   "id": "35004028",
   "metadata": {},
   "outputs": [],
   "source": [
    "my_df = my_df.append(temp_df)"
   ]
  },
  {
   "cell_type": "code",
   "execution_count": 101,
   "id": "8f2fe4e9",
   "metadata": {},
   "outputs": [
    {
     "data": {
      "text/html": [
       "<div>\n",
       "<style scoped>\n",
       "    .dataframe tbody tr th:only-of-type {\n",
       "        vertical-align: middle;\n",
       "    }\n",
       "\n",
       "    .dataframe tbody tr th {\n",
       "        vertical-align: top;\n",
       "    }\n",
       "\n",
       "    .dataframe thead th {\n",
       "        text-align: right;\n",
       "    }\n",
       "</style>\n",
       "<table border=\"1\" class=\"dataframe\">\n",
       "  <thead>\n",
       "    <tr style=\"text-align: right;\">\n",
       "      <th></th>\n",
       "      <th>First Name</th>\n",
       "      <th>Last Name</th>\n",
       "      <th>Age</th>\n",
       "      <th>Hobbies</th>\n",
       "      <th>numbers</th>\n",
       "    </tr>\n",
       "  </thead>\n",
       "  <tbody>\n",
       "    <tr>\n",
       "      <th>0</th>\n",
       "      <td>Daniel</td>\n",
       "      <td>Aguirre</td>\n",
       "      <td>28</td>\n",
       "      <td>[running, guitar, video games]</td>\n",
       "      <td>[1, 2, 3]</td>\n",
       "    </tr>\n",
       "  </tbody>\n",
       "</table>\n",
       "</div>"
      ],
      "text/plain": [
       "  First Name Last Name Age                         Hobbies    numbers\n",
       "0     Daniel   Aguirre  28  [running, guitar, video games]  [1, 2, 3]"
      ]
     },
     "execution_count": 101,
     "metadata": {},
     "output_type": "execute_result"
    }
   ],
   "source": [
    "my_df"
   ]
  },
  {
   "cell_type": "code",
   "execution_count": 102,
   "id": "a93d98ef",
   "metadata": {},
   "outputs": [
    {
     "data": {
      "text/html": [
       "<div>\n",
       "<style scoped>\n",
       "    .dataframe tbody tr th:only-of-type {\n",
       "        vertical-align: middle;\n",
       "    }\n",
       "\n",
       "    .dataframe tbody tr th {\n",
       "        vertical-align: top;\n",
       "    }\n",
       "\n",
       "    .dataframe thead th {\n",
       "        text-align: right;\n",
       "    }\n",
       "</style>\n",
       "<table border=\"1\" class=\"dataframe\">\n",
       "  <thead>\n",
       "    <tr style=\"text-align: right;\">\n",
       "      <th></th>\n",
       "      <th>First Name</th>\n",
       "      <th>Last Name</th>\n",
       "      <th>Age</th>\n",
       "      <th>Hobbies</th>\n",
       "      <th>numbers</th>\n",
       "    </tr>\n",
       "  </thead>\n",
       "  <tbody>\n",
       "    <tr>\n",
       "      <th>0</th>\n",
       "      <td>Daniel</td>\n",
       "      <td>Aguirre</td>\n",
       "      <td>28</td>\n",
       "      <td>running</td>\n",
       "      <td>1</td>\n",
       "    </tr>\n",
       "    <tr>\n",
       "      <th>0</th>\n",
       "      <td>Daniel</td>\n",
       "      <td>Aguirre</td>\n",
       "      <td>28</td>\n",
       "      <td>guitar</td>\n",
       "      <td>2</td>\n",
       "    </tr>\n",
       "    <tr>\n",
       "      <th>0</th>\n",
       "      <td>Daniel</td>\n",
       "      <td>Aguirre</td>\n",
       "      <td>28</td>\n",
       "      <td>video games</td>\n",
       "      <td>3</td>\n",
       "    </tr>\n",
       "  </tbody>\n",
       "</table>\n",
       "</div>"
      ],
      "text/plain": [
       "  First Name Last Name Age      Hobbies numbers\n",
       "0     Daniel   Aguirre  28      running       1\n",
       "0     Daniel   Aguirre  28       guitar       2\n",
       "0     Daniel   Aguirre  28  video games       3"
      ]
     },
     "execution_count": 102,
     "metadata": {},
     "output_type": "execute_result"
    }
   ],
   "source": [
    "my_df.explode(['Hobbies', 'numbers'])"
   ]
  },
  {
   "cell_type": "markdown",
   "id": "faceac7a",
   "metadata": {},
   "source": [
    "# Cleaning data frame"
   ]
  },
  {
   "cell_type": "code",
   "execution_count": 20,
   "id": "7eb7eb8c",
   "metadata": {},
   "outputs": [],
   "source": [
    "olympics_df = pd.read_csv('archive//exploded_olympics.csv')"
   ]
  },
  {
   "cell_type": "code",
   "execution_count": 21,
   "id": "0311bbf3",
   "metadata": {},
   "outputs": [],
   "source": [
    "olympics_df['Name'] = olympics_df['Name'].str.title()"
   ]
  },
  {
   "cell_type": "code",
   "execution_count": 26,
   "id": "5580030a",
   "metadata": {},
   "outputs": [],
   "source": [
    "olympics_df['Name'] = pd.Series(olympics_df['Name'].str.split(' ').str[::-1].apply(lambda x : ' '.join(x)))"
   ]
  },
  {
   "cell_type": "code",
   "execution_count": 31,
   "id": "dd6c6af2",
   "metadata": {},
   "outputs": [],
   "source": [
    "olympics_df['Sex'] = olympics_df['Sex'].str[0]"
   ]
  },
  {
   "cell_type": "code",
   "execution_count": 33,
   "id": "9d760d2d",
   "metadata": {},
   "outputs": [
    {
     "data": {
      "text/html": [
       "<div>\n",
       "<style scoped>\n",
       "    .dataframe tbody tr th:only-of-type {\n",
       "        vertical-align: middle;\n",
       "    }\n",
       "\n",
       "    .dataframe tbody tr th {\n",
       "        vertical-align: top;\n",
       "    }\n",
       "\n",
       "    .dataframe thead th {\n",
       "        text-align: right;\n",
       "    }\n",
       "</style>\n",
       "<table border=\"1\" class=\"dataframe\">\n",
       "  <thead>\n",
       "    <tr style=\"text-align: right;\">\n",
       "      <th></th>\n",
       "      <th>Name</th>\n",
       "      <th>Sex</th>\n",
       "      <th>Age</th>\n",
       "      <th>Team</th>\n",
       "      <th>NOC</th>\n",
       "      <th>Year</th>\n",
       "      <th>Season</th>\n",
       "      <th>City</th>\n",
       "      <th>Sport</th>\n",
       "      <th>Event</th>\n",
       "      <th>Medal</th>\n",
       "    </tr>\n",
       "  </thead>\n",
       "  <tbody>\n",
       "    <tr>\n",
       "      <th>0</th>\n",
       "      <td>Katrine Aalerud</td>\n",
       "      <td>F</td>\n",
       "      <td>26</td>\n",
       "      <td>Norway</td>\n",
       "      <td>NOR</td>\n",
       "      <td>2020</td>\n",
       "      <td>Summer</td>\n",
       "      <td>Tokyo</td>\n",
       "      <td>Cycling Road</td>\n",
       "      <td>Women's Road Race</td>\n",
       "      <td>NaN</td>\n",
       "    </tr>\n",
       "    <tr>\n",
       "      <th>1</th>\n",
       "      <td>Katrine Aalerud</td>\n",
       "      <td>F</td>\n",
       "      <td>26</td>\n",
       "      <td>Norway</td>\n",
       "      <td>NOR</td>\n",
       "      <td>2020</td>\n",
       "      <td>Summer</td>\n",
       "      <td>Tokyo</td>\n",
       "      <td>Cycling Road</td>\n",
       "      <td>Women's Individual Time Trial</td>\n",
       "      <td>NaN</td>\n",
       "    </tr>\n",
       "    <tr>\n",
       "      <th>2</th>\n",
       "      <td>Nestor Abad</td>\n",
       "      <td>M</td>\n",
       "      <td>28</td>\n",
       "      <td>Spain</td>\n",
       "      <td>ESP</td>\n",
       "      <td>2020</td>\n",
       "      <td>Summer</td>\n",
       "      <td>Tokyo</td>\n",
       "      <td>Artistic Gymnastics</td>\n",
       "      <td>Men's All-Around</td>\n",
       "      <td>NaN</td>\n",
       "    </tr>\n",
       "    <tr>\n",
       "      <th>3</th>\n",
       "      <td>Nestor Abad</td>\n",
       "      <td>M</td>\n",
       "      <td>28</td>\n",
       "      <td>Spain</td>\n",
       "      <td>ESP</td>\n",
       "      <td>2020</td>\n",
       "      <td>Summer</td>\n",
       "      <td>Tokyo</td>\n",
       "      <td>Artistic Gymnastics</td>\n",
       "      <td>Men's Floor Exercise</td>\n",
       "      <td>NaN</td>\n",
       "    </tr>\n",
       "    <tr>\n",
       "      <th>4</th>\n",
       "      <td>Nestor Abad</td>\n",
       "      <td>M</td>\n",
       "      <td>28</td>\n",
       "      <td>Spain</td>\n",
       "      <td>ESP</td>\n",
       "      <td>2020</td>\n",
       "      <td>Summer</td>\n",
       "      <td>Tokyo</td>\n",
       "      <td>Artistic Gymnastics</td>\n",
       "      <td>Men's Pommel Horse</td>\n",
       "      <td>NaN</td>\n",
       "    </tr>\n",
       "  </tbody>\n",
       "</table>\n",
       "</div>"
      ],
      "text/plain": [
       "              Name Sex  Age    Team  NOC  Year  Season   City  \\\n",
       "0  Katrine Aalerud   F   26  Norway  NOR  2020  Summer  Tokyo   \n",
       "1  Katrine Aalerud   F   26  Norway  NOR  2020  Summer  Tokyo   \n",
       "2      Nestor Abad   M   28   Spain  ESP  2020  Summer  Tokyo   \n",
       "3      Nestor Abad   M   28   Spain  ESP  2020  Summer  Tokyo   \n",
       "4      Nestor Abad   M   28   Spain  ESP  2020  Summer  Tokyo   \n",
       "\n",
       "                 Sport                          Event Medal  \n",
       "0         Cycling Road              Women's Road Race   NaN  \n",
       "1         Cycling Road  Women's Individual Time Trial   NaN  \n",
       "2  Artistic Gymnastics               Men's All-Around   NaN  \n",
       "3  Artistic Gymnastics           Men's Floor Exercise   NaN  \n",
       "4  Artistic Gymnastics             Men's Pommel Horse   NaN  "
      ]
     },
     "execution_count": 33,
     "metadata": {},
     "output_type": "execute_result"
    }
   ],
   "source": [
    "olympics_df.head()"
   ]
  },
  {
   "cell_type": "code",
   "execution_count": 35,
   "id": "da54f7ea",
   "metadata": {},
   "outputs": [],
   "source": [
    "olympics_df.to_csv('archive//olympics_2020_data.csv', index=False)"
   ]
  },
  {
   "cell_type": "code",
   "execution_count": null,
   "id": "e92af4af",
   "metadata": {},
   "outputs": [],
   "source": []
  },
  {
   "cell_type": "code",
   "execution_count": null,
   "id": "ee25d4ed",
   "metadata": {},
   "outputs": [],
   "source": []
  },
  {
   "cell_type": "code",
   "execution_count": null,
   "id": "941060ce",
   "metadata": {},
   "outputs": [],
   "source": []
  },
  {
   "cell_type": "code",
   "execution_count": null,
   "id": "bf225be2",
   "metadata": {},
   "outputs": [],
   "source": []
  },
  {
   "cell_type": "code",
   "execution_count": null,
   "id": "f466f411",
   "metadata": {},
   "outputs": [],
   "source": []
  },
  {
   "cell_type": "code",
   "execution_count": null,
   "id": "b54659e9",
   "metadata": {},
   "outputs": [],
   "source": []
  },
  {
   "cell_type": "code",
   "execution_count": null,
   "id": "8b1ecb0f",
   "metadata": {},
   "outputs": [],
   "source": []
  },
  {
   "cell_type": "code",
   "execution_count": null,
   "id": "7820531b",
   "metadata": {},
   "outputs": [],
   "source": []
  }
 ],
 "metadata": {
  "kernelspec": {
   "display_name": "Python 3 (ipykernel)",
   "language": "python",
   "name": "python3"
  },
  "language_info": {
   "codemirror_mode": {
    "name": "ipython",
    "version": 3
   },
   "file_extension": ".py",
   "mimetype": "text/x-python",
   "name": "python",
   "nbconvert_exporter": "python",
   "pygments_lexer": "ipython3",
   "version": "3.9.6"
  }
 },
 "nbformat": 4,
 "nbformat_minor": 5
}
